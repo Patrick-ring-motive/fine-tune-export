{
 "cells": [
  {
   "cell_type": "code",
   "execution_count": 21,
   "id": "816f8adc-1273-4193-a05c-324748fc564c",
   "metadata": {
    "execution": {
     "iopub.execute_input": "2024-09-18T14:35:02.269294Z",
     "iopub.status.busy": "2024-09-18T14:35:02.268966Z",
     "iopub.status.idle": "2024-09-18T14:35:02.701439Z",
     "shell.execute_reply": "2024-09-18T14:35:02.700829Z",
     "shell.execute_reply.started": "2024-09-18T14:35:02.269274Z"
    },
    "tags": []
   },
   "outputs": [
    {
     "name": "stdout",
     "output_type": "stream",
     "text": [
      "\u001b[33m141\u001b[39m\n",
      "[\n",
      "  SyntaxError: Unexpected token ' in JSON at position 555\n",
      "      at JSON.parse (<anonymous>)\n",
      "      at JSON.zparse \u001b[90m(file:///workspace/pring/fine-tune/\u001b[39mfilter2.mjs:12:21\u001b[90m)\u001b[39m\n",
      "      at \u001b[90mfile:///workspace/pring/fine-tune/\u001b[39mfilter2.mjs:72:34\n",
      "      at Array.map (<anonymous>)\n",
      "      at \u001b[90mfile:///workspace/pring/fine-tune/\u001b[39mfilter2.mjs:72:22,\n",
      "  SyntaxError: Unexpected token \n",
      "   in JSON at position 468\n",
      "      at JSON.parse (<anonymous>)\n",
      "      at JSON.zparse \u001b[90m(file:///workspace/pring/fine-tune/\u001b[39mfilter2.mjs:12:21\u001b[90m)\u001b[39m\n",
      "      at \u001b[90mfile:///workspace/pring/fine-tune/\u001b[39mfilter2.mjs:72:34\n",
      "      at Array.map (<anonymous>)\n",
      "      at \u001b[90mfile:///workspace/pring/fine-tune/\u001b[39mfilter2.mjs:72:22\n",
      "]\n"
     ]
    }
   ],
   "source": [
    "!node filter2.mjs"
   ]
  },
  {
   "cell_type": "code",
   "execution_count": null,
   "id": "4d3c8901-6388-4198-a825-7d9517c3eb6d",
   "metadata": {},
   "outputs": [],
   "source": []
  },
  {
   "cell_type": "code",
   "execution_count": null,
   "id": "36f9185e-3bac-4b56-9990-8dd60711253c",
   "metadata": {},
   "outputs": [],
   "source": []
  }
 ],
 "metadata": {
  "kernelspec": {
   "display_name": "Python [conda env:pytorch]",
   "language": "python",
   "name": "conda-env-pytorch-py"
  },
  "language_info": {
   "codemirror_mode": {
    "name": "ipython",
    "version": 3
   },
   "file_extension": ".py",
   "mimetype": "text/x-python",
   "name": "python",
   "nbconvert_exporter": "python",
   "pygments_lexer": "ipython3",
   "version": "3.11.5"
  }
 },
 "nbformat": 4,
 "nbformat_minor": 5
}
