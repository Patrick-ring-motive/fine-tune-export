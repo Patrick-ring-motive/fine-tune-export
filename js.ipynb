{
 "cells": [
  {
   "cell_type": "code",
   "execution_count": 12,
   "id": "8a827951-23f6-4d3f-8675-4079f9da6ee3",
   "metadata": {
    "execution": {
     "iopub.execute_input": "2024-06-24T15:14:06.788361Z",
     "iopub.status.busy": "2024-06-24T15:14:06.788009Z",
     "iopub.status.idle": "2024-06-24T15:14:07.332883Z",
     "shell.execute_reply": "2024-06-24T15:14:07.332298Z",
     "shell.execute_reply.started": "2024-06-24T15:14:06.788341Z"
    },
    "tags": []
   },
   "outputs": [
    {
     "name": "stdout",
     "output_type": "stream",
     "text": [
      "v18.15.0\n",
      "done\n",
      "\u001b[33m139\u001b[39m\n",
      "written?\n"
     ]
    }
   ],
   "source": [
    "!node scrape.mjs"
   ]
  },
  {
   "cell_type": "code",
   "execution_count": 1,
   "id": "7ad32578-4d14-4036-b295-09a5a0b3ed84",
   "metadata": {
    "execution": {
     "iopub.execute_input": "2024-09-18T15:07:18.358719Z",
     "iopub.status.busy": "2024-09-18T15:07:18.358084Z",
     "iopub.status.idle": "2024-09-18T15:07:18.730226Z",
     "shell.execute_reply": "2024-09-18T15:07:18.729628Z",
     "shell.execute_reply.started": "2024-09-18T15:07:18.358700Z"
    },
    "tags": []
   },
   "outputs": [
    {
     "name": "stdout",
     "output_type": "stream",
     "text": [
      "\u001b[33m378\u001b[39m\n"
     ]
    }
   ],
   "source": [
    "!node formatfix.mjs"
   ]
  },
  {
   "cell_type": "code",
   "execution_count": 2,
   "id": "a4e062f7-920b-4ef7-bb24-0eca5c80541e",
   "metadata": {
    "execution": {
     "iopub.execute_input": "2024-09-18T15:12:57.873701Z",
     "iopub.status.busy": "2024-09-18T15:12:57.873363Z",
     "iopub.status.idle": "2024-09-18T15:12:58.221067Z",
     "shell.execute_reply": "2024-09-18T15:12:58.220387Z",
     "shell.execute_reply.started": "2024-09-18T15:12:57.873679Z"
    },
    "tags": []
   },
   "outputs": [],
   "source": [
    "!node combinedata.mjs"
   ]
  },
  {
   "cell_type": "code",
   "execution_count": 19,
   "id": "1a6ac091-3275-4ec9-835b-0f6b7a551167",
   "metadata": {
    "execution": {
     "iopub.execute_input": "2024-06-26T20:49:05.602949Z",
     "iopub.status.busy": "2024-06-26T20:49:05.602593Z",
     "iopub.status.idle": "2024-06-26T20:49:05.944081Z",
     "shell.execute_reply": "2024-06-26T20:49:05.943444Z",
     "shell.execute_reply.started": "2024-06-26T20:49:05.602929Z"
    },
    "tags": []
   },
   "outputs": [],
   "source": [
    "!node removeCodeFromData.mjs"
   ]
  },
  {
   "cell_type": "code",
   "execution_count": 1,
   "id": "3456dd87-9562-4bee-b9f0-9033d8396f34",
   "metadata": {
    "execution": {
     "iopub.execute_input": "2024-09-18T14:10:15.167783Z",
     "iopub.status.busy": "2024-09-18T14:10:15.167450Z",
     "iopub.status.idle": "2024-09-18T14:10:16.823808Z",
     "shell.execute_reply": "2024-09-18T14:10:16.823216Z",
     "shell.execute_reply.started": "2024-09-18T14:10:15.167764Z"
    },
    "tags": []
   },
   "outputs": [
    {
     "name": "stdout",
     "output_type": "stream",
     "text": [
      "\u001b[K\u001b[?25hm#########\u001b[0m\u001b[100;90m⠂⠂⠂⠂⠂⠂⠂⠂⠂\u001b[0m) ⠙ reify:jsonrepair: \u001b[32;40mtiming\u001b[0m \u001b[35mreify:loadBundles\u001b[0m Completed in\u001b[0m\u001b[K\n",
      "added 1 package in 876ms\n",
      "\u001b[37;40mnpm\u001b[0m \u001b[0m\u001b[36;40mnotice\u001b[0m\u001b[35m\u001b[0m \n",
      "\u001b[0m\u001b[37;40mnpm\u001b[0m \u001b[0m\u001b[36;40mnotice\u001b[0m\u001b[35m\u001b[0m New \u001b[31mmajor\u001b[39m version of npm available! \u001b[31m9.5.0\u001b[39m -> \u001b[32m10.8.3\u001b[39m\n",
      "\u001b[0m\u001b[37;40mnpm\u001b[0m \u001b[0m\u001b[36;40mnotice\u001b[0m\u001b[35m\u001b[0m Changelog: \u001b[36mhttps://github.com/npm/cli/releases/tag/v10.8.3\u001b[39m\n",
      "\u001b[0m\u001b[37;40mnpm\u001b[0m \u001b[0m\u001b[36;40mnotice\u001b[0m\u001b[35m\u001b[0m Run \u001b[32mnpm install -g npm@10.8.3\u001b[39m to update!\n",
      "\u001b[0m\u001b[37;40mnpm\u001b[0m \u001b[0m\u001b[36;40mnotice\u001b[0m\u001b[35m\u001b[0m \n",
      "\u001b[0m"
     ]
    }
   ],
   "source": [
    "!npm install jsonrepair"
   ]
  },
  {
   "cell_type": "code",
   "execution_count": null,
   "id": "3c326f2b-2028-4ead-acea-cc8ee2dce8cf",
   "metadata": {},
   "outputs": [],
   "source": []
  }
 ],
 "metadata": {
  "kernelspec": {
   "display_name": "Python [conda env:pytorch]",
   "language": "python",
   "name": "conda-env-pytorch-py"
  },
  "language_info": {
   "codemirror_mode": {
    "name": "ipython",
    "version": 3
   },
   "file_extension": ".py",
   "mimetype": "text/x-python",
   "name": "python",
   "nbconvert_exporter": "python",
   "pygments_lexer": "ipython3",
   "version": "3.11.5"
  }
 },
 "nbformat": 4,
 "nbformat_minor": 5
}
