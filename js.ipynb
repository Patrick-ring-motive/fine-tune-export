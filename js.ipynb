{
 "cells": [
  {
   "cell_type": "code",
   "execution_count": 12,
   "id": "8a827951-23f6-4d3f-8675-4079f9da6ee3",
   "metadata": {
    "execution": {
     "iopub.execute_input": "2024-06-24T15:14:06.788361Z",
     "iopub.status.busy": "2024-06-24T15:14:06.788009Z",
     "iopub.status.idle": "2024-06-24T15:14:07.332883Z",
     "shell.execute_reply": "2024-06-24T15:14:07.332298Z",
     "shell.execute_reply.started": "2024-06-24T15:14:06.788341Z"
    },
    "tags": []
   },
   "outputs": [
    {
     "name": "stdout",
     "output_type": "stream",
     "text": [
      "v18.15.0\n",
      "done\n",
      "\u001b[33m139\u001b[39m\n",
      "written?\n"
     ]
    }
   ],
   "source": [
    "!node scrape.mjs"
   ]
  },
  {
   "cell_type": "code",
   "execution_count": 18,
   "id": "7ad32578-4d14-4036-b295-09a5a0b3ed84",
   "metadata": {
    "execution": {
     "iopub.execute_input": "2024-06-26T20:48:53.746496Z",
     "iopub.status.busy": "2024-06-26T20:48:53.746152Z",
     "iopub.status.idle": "2024-06-26T20:48:54.111508Z",
     "shell.execute_reply": "2024-06-26T20:48:54.110898Z",
     "shell.execute_reply.started": "2024-06-26T20:48:53.746476Z"
    },
    "tags": []
   },
   "outputs": [
    {
     "name": "stdout",
     "output_type": "stream",
     "text": [
      "[\n",
      "  \u001b[32m\"<s>[INST] Retrieve the URL of the USAA 'Save Towards a Goal Calculator' page. [/INST] https://usaaef.org/tools/calculator/save-towards-a-goal-calculator </s>\"\u001b[39m,\n",
      "  \u001b[32m\"<s>[INST] Extract and describe the JavaScript code snippet related to the iframe loading. [/INST] The provided JavaScript code snippet is responsible for loading an iframe element with the ID 'fin-embed-3087'. It checks if the document is in the 'loading' state and, if so, adds an event listener for 'DOMContentLoaded' to ensure the iframe is loaded after the document is fully loaded. If the document is not in the 'loading' state, it directly calls the 'iFrameResize' function with the log parameter set to false for the iframe with the specified ID. </s>\"\u001b[39m,\n",
      "  \u001b[32m'<s>[INST] What is the URL for the USAA informational content about credit scores? [/INST] The URL for the USAA informational content about credit scores is https://usaaef.org/news-insights/tag/credit-score. </s>'\u001b[39m,\n",
      "  \u001b[32m'<s>[INST] Can you list the tags associated with the USAA informational content on credit scores? [/INST] The tags associated with the USAA informational content on credit scores include Basic Allowance for Housing, Budget, Budgeting, Caregiver, Credit and Debt, Credit Reports, Credit Score, Debt Destroyer, Emergency Fund, Estate Planning, FICO, Holiday, Investing, Life Insurance, Mental health, Personal Finance Tips, Rent or Buy, Retirement, Saving, School, SGLI, SMART Goals, Taxes, Travel, Trip Insurance. </s>'\u001b[39m,\n",
      "  \u001b[32m'<s>[INST] Retrieve the URL for the USAA informational website content related to caregiver financial wellness. [/INST] https://usaaef.org/life-events/caregiver-financial-journey/caregiver-financial-wellness </s>'\u001b[39m,\n",
      "  \u001b[32m'<s>[INST] Extract and format the content from the USAA informational website for caregiver financial wellness. [/INST] This content was developed in proud partnership with In This Guide The Building Blocks of Financial Wellness,Educational Article Financial Planning for Caregivers,Worksheet Budget & Savings,Video Emergency Funds,Credit & Debt Educational Article,Insurance & Protection Educational Article,Estate Planning Educational Article,Resources & Benefits Educational Article,Get Started The Building Blocks of Finanscial Wellness Part 1 of 9 in the Caregiver Financial Wellness Guide </s>'\u001b[39m,\n",
      "  \u001b[32m'<s>[INST] Retrieve the URL for the USAA Emergency Fund Calculator. [/INST] https://usaaef.org/tools/calculator/emergency-fund-calculator </s>'\u001b[39m,\n",
      "  \u001b[32m'<s>[INST] Extract the title of the content related to the Emergency Fund Calculator. [/INST] Emergency Fund Calculator </s>'\u001b[39m,\n",
      "  \u001b[32m'<s>[INST] Identify the purpose of the content provided by USAA. [/INST] To guide users on how much they should save for emergencies. </s>'\u001b[39m,\n",
      "  \u001b[32m'<s>[INST] Determine the type of content (script or informational) from the raw data. [/INST] Script </s>'\u001b[39m,\n",
      "  \u001b[32m\"<s>[INST] Retrieve the URL for the 'Car Buying Basics | New vs Pre-owned' video from the USAA informational website. [/INST] https://usaaef.org/tools/video/car-buying-basics-new-vs-pre-owned </s>\"\u001b[39m,\n",
      "  \u001b[32m\"<s>[INST] Extract the main topic and included content from the 'Car Buying Basics | New vs Pre-owned' video description. [/INST] The main topic is 'Car Buying Basics | New vs Pre-owned'. The included content mentions 'All Videos' and 'Included On: Buy New or Buy Used?' </s>\"\u001b[39m,\n",
      "  \u001b[32m'<s>[INST] Retrieve the URL for the USAA calculator page that shows 25 - 28 of 28 results. [/INST] https://usaaef.org/tools/calculator/page/3 </s>'\u001b[39m,\n",
      "  \u001b[32m\"<s>[INST] List the types of calculators available on the USAA calculator page. [/INST] ['Calculators ↵The Impact of Saving More Calculator↵Calculator↵Traditional 401(k) or Roth 401(k) Calculator↵Calculator↵Vehicle Affordability by Loan Term Calculator↵Calculator↵Vehicle Payment Calculator↵Calculators navigation↵1↵2↵3↵Showing 25 - 28 of 28↵Tools &#038; Resources↵Calculators↵Videos↵Worksheets'] </s>\"\u001b[39m,\n",
      "  \u001b[32m\"<s>[INST] Retrieve the URL for the 'Car Buying Basics | What Do You Want Your Payment To Be' video from the USAA informational website. [/INST] https://usaaef.org/tools/video/car-buying-basics-what-do-you-want-your-payment-to-be </s>\"\u001b[39m,\n",
      "  \u001b[32m\"<s>[INST] Extract the title and the included content description from the video's information on the USAA informational website. [/INST] ['Car Buying Basics | What Do You Want Your Payment To Be', 'All Videos↵Included On:↵What Do You Want Your Payment to Be?'] </s>\"\u001b[39m,\n",
      "  \u001b[32m'<s>[INST] Retrieve the URL for the USAA informational website on buying a vehicle. [/INST] https://usaaef.org/product/buying-a-vehicle </s>'\u001b[39m,\n",
      "  \u001b[32m\"<s>[INST] Identify the availability status of the 'Buying A Vehicle' publication. [/INST] The 'Buying A Vehicle' publication is currently out of stock. </s>\"\u001b[39m,\n",
      "  \u001b[32m\"<s>[INST] Provide the SKU for the 'Buying A Vehicle' publication. [/INST] SKU: 70505-0819 </s>\"\u001b[39m,\n",
      "  \u001b[32m\"<s>[INST] Classify the 'Buying A Vehicle' publication under its category. [/INST] Category: Major Purchases </s>\"\u001b[39m,\n",
      "  \u001b[32m\"<s>[INST] Summarize the purpose of the 'Buying A Vehicle' publication. [/INST] The publication provides insights on how to locate the perfect vehicle and negotiate the price for new or used vehicles. </s>\"\u001b[39m,\n",
      "  \u001b[32m'<s>[INST] List related publications mentioned in the content. [/INST] Related Publications: Buying Or Renting A Home </s>'\u001b[39m,\n",
      "  \u001b[32m'<s>[INST] Retrieve the URL for the USAA Financial Planning and Goal Setting publication. [/INST] https://usaaef.org/product/financial-planning-and-goal-setting </s>'\u001b[39m,\n",
      "  \u001b[32m'<s>[INST] Describe the availability and format of the Financial Planning and Goal Setting publication. [/INST] The Financial Planning and Goal Setting publication is available for free via PDF Download only and is currently out of stock. </s>'\u001b[39m,\n",
      "  \u001b[32m'<s>[INST] Provide the SKU and category for the Financial Planning and Goal Setting publication. [/INST] SKU: 70511-0319, Category: Budget </s>'\u001b[39m,\n",
      "  \u001b[32m'<s>[INST] Summarize the content of the Finanscial Planning and Goal Setting publication. [/INST] The publication discusses the importance of setting realistic long-term goals, assessing current resources, and devising a solid financial plan of action to ensure ample resources for retirement. </s>'\u001b[39m,\n",
      "  \u001b[32m'<s>[INST] Provide a URL for the USAA informational website section on credit and debt. [/INST] https://usaaef.org/credit-debt </s>'\u001b[39m,\n",
      "  \u001b[32m'<s>[INST] List the main topics covered in the USAA informational website section on credit and debt. [/INST] Understanding Credit and Managing Debt,Credit,Debt,Recommended Tools & Resources,Establishing Credit,Debt-to-Income Calculator,Step-Up Your Credit Game,Time for Debt Destruction,News & Insights </s>'\u001b[39m,\n",
      "  \u001b[32m'<s>[INST] Retrieve the dates of the news and insights articles mentioned in the USAA informational website section on credit and debt. [/INST] March 1, 2024,February 27, 2024 </s>'\u001b[39m,\n",
      "  \u001b[32m'<s>[INST] What do you need in your estate plan? [/INST] There are several key documents that make up the framework of an estate plan: Will, Powers of Attorney, Advance Medical Directives, Trusts, Letter of Instruction, and Service members and their families are encouraged to speak with their Legal Assistance Office for help drafting estate planning documents. </s>'\u001b[39m,\n",
      "  \u001b[32m\"<s>[INST] In This Guide, what is covered under 'Prepare Your Legal Documents'? [/INST] Prepare Your Legal Documents covers 'What is an Estate Plan?', 'Steps to Build an Estate Plan', 'Key Estate Planning Documents', 'Military Survivor Benefits', and 'Up Next' which leads to 'What is a Will? Part 4 of 9 in the Prepare Your Legal Documents Guide'. </s>\"\u001b[39m,\n",
      "  \u001b[32m\"<s>[INST] What is the URL for the estate planning guide? [/INST] The URL for the estate planning guide is 'https://usaaef.org/estate-plan/estate-plan-goals/prepare-your-legal-documents' </s>\"\u001b[39m,\n",
      "  \u001b[32m'<s>[INST] Provide the URL for a video related to Credit Reports and Scores from the USAA informational website. [/INST] https://usaaef.org/tools/video/credit-reports-and-scores </s>'\u001b[39m,\n",
      "  \u001b[32m\"<s>[INST] Summarize the content of the video URL provided, focusing on the main topic and included resources. [/INST] The video content is about Credit Reports and Scores, specifically focusing on 'All Videos' and includes a resource titled 'Step-Up Your Credit Game'. </s>\"\u001b[39m,\n",
      "  \u001b[32m'<s>[INST] Retrieve the URL for a video comparing HBHQ renting vs buying from the USAA informational website. [/INST] https://usaaef.org/tools/video/hbhq-renting-vs-buying </s>'\u001b[39m,\n",
      "  \u001b[32m\"<s>[INST] Extract the main topic and included content description from the video URL provided. [/INST] The main topic is 'HBHQ | Renting vs Buying' with the included content description 'All Videos↵Included On:↵Home Is Where the Heart Is'. </s>\"\u001b[39m,\n",
      "  \u001b[32m'<s>[INST] Retrieve the URL for the USAA informational website on managing debt. [/INST] https://usaaef.org/credit-debt/debt/managing-debt </s>'\u001b[39m,\n",
      "  \u001b[32m'<s>[INST] Extract the content from the provided URL, focusing on the titles and descriptions of the educational articles. [/INST] In This Guide↵Debt is like dynamite. Used carefully, it can be a great tool for building things. Used carelessly, it can do real damage. Learn to handle with care.↵What is Debt?↵Educational Article↵How Much Debt is too Much?↵Educational Article↵Debt-to0-Income Calculator↵Calculator↵Dangers of Debt in the Military↵Educational Article↵How Interest Works on Credit Card Debt↵Educational Article↵Why Pay More Than the Minimum?↵Educational Article↵Increase Your Monthly Payment↵Calculator↵Strategies to Pay Off Debt↵Educational Article↵Should I Consider Credit Counseling?↵Educational Article↵Get Started↵What is Debt?↵Part 1 of 9 in the Managing Debt Guide </s>'\u001b[39m,\n",
      "  \u001b[32m'<s>[INST] Retrieve the URL for the USAA Debt Destroyer guide. [/INST] https://usaaef.org/credit-debt/debt/debt-destroyer </s>'\u001b[39m,\n",
      "  \u001b[32m'<s>[INST] List the main sections and types of content found on the USAA Debt Destroyer guide. [/INST] In This Guide↵Debt can get out of hand fast. Take back control and set yourself up for financial success with Debt Destroyer®.↵Welcome to Debt Destroyer®!↵Worksheet↵Fuel Your Success↵Educational Article↵Step 1: Stop the Bleeding↵Video↵Step 2: Build a Safety Net↵Video↵Step 3: Confront Your Debt↵Video↵Step 4: Know Your Cash Flow↵Video↵Step 5: Adjust Your Cash Flow↵Video↵Step 6: Pay It Down!↵Video↵Time for Debt Destruction↵Calculator↵Final Thoughts↵Educational Article↵Get Started↵Part 1 of 10 in the Debt Destroyer® Guide </s>'\u001b[39m,\n",
      "  \u001b[32m'<s>[INST] Provide a URL for a resource on understanding credit reports and scores. [/INST] https://usaaef.org/credit-debt/credit/understanding-credit/credit-reports-and-scores </s>'\u001b[39m,\n",
      "  \u001b[32m\"<s>[INST] List the sections covered in the 'Understanding Credit Guide' on the provided USAA website. [/INST] ['Credit Report Basics', 'Part 5 of 8 in the Understanding Credit Guide'] </s>\"\u001b[39m,\n",
      "  \u001b[32m'<s>[INST] Retrieve the URL for the USAA Investing for Growth Guide. [/INST] https://usaaef.org/invest-for-the-future/investing/investing-for-growth </s>'\u001b[39m,\n",
      "  \u001b[32m'<s>[INST] List the main sections and types of content available in the USAA Investing for Growth Guide. [/INST] In This Guide,Video,Savings vs. Investing &#8211; What&#8217;s The Difference?,Calculator,Things to Do Before You Invest,Educational Article,The Four Main Asset Classes,Understanding Investment Funds,Determining Your Risk Tolerance,Setting the Right Expectations,Common Investment Strategies,Tax Implications of Investing,Get Started,Why Invest? Part 1 of 9 in the Investing for Growth Guide </s>'\u001b[39m,\n",
      "  \u001b[32m'<s>[INST] Retrieve the URL for a video on how to pay for retirement from the USAA website. [/INST] https://usaaef.org/tools/video/how-to-pay-for-retirement </s>'\u001b[39m,\n",
      "  \u001b[32m'<s>[INST] Extract the main topic from the content list related to retirement payment methods. [/INST] How to Pay for Retirement </s>'\u001b[39m,\n",
      "  \u001b[32m'<s>[INST] Retrieve the URL for a video on financial tips for new parents from the USAA website. [/INST] https://usaaef.org/tools/video/financial-tips-for-new-parents </s>'\u001b[39m,\n",
      "  \u001b[32m'<s>[INST] Identify the section within the video content that discusses the date when the videos were included. [/INST] Included On:↵Becoming a Parent </s>'\u001b[39m,\n",
      "  \u001b[32m'<s>[INST] Retrieve the URL for the USAA estate planning guide. [/INST] https://usaaef.org/estate-plan/estate-plan-goals/prepare-your-legal-documents </s>'\u001b[39m,\n",
      "  \u001b[32m'<s>[INST] Extract the main topics covered in the USAA estate planning guide. [/INST] Learn why you should create arrangements in the event of your death,What to have prepared,How to make a well-informed plan,Steps to Build an Estate Plan,Military Survivor Benefits,What is an Estate Plan? Part 1 of 9 in the Prepare Your Legal Documents Guide </s>'\u001b[39m,\n",
      "  \u001b[32m'<s>[INST] Retrieve the URL for the USAA budget publications category. [/INST] https://usaaef.org/product-category/budget-publications </s>'\u001b[39m,\n",
      "  \u001b[32m'<s>[INST] List the options available for sorting the budget publications. [/INST] Default sorting,Sort by popularity,Sort by latest,Sort by price: low to high,Sort by price: high to low </s>'\u001b[39m,\n",
      "  \u001b[32m'<s>[INST] Identify the title of the first budget publication listed. [/INST] Budget </s>'\u001b[39m,\n",
      "  \u001b[32m'<s>[INST] Determine if the first budget publication is free or paid. [/INST] Free Publication </s>'\u001b[39m,\n",
      "  \u001b[32m'<s>[INST] List the content of the first budget publication. [/INST] Showing the single result,Default sorting,Sort by popularity,Sort by latest,Sort by price: low to high,Sort by price: high to low,Financial Planning and Goal Setting,Free Publication,Read more </s>'\u001b[39m,\n",
      "  \u001b[32m\"<s>[INST] Retrieve the URL for the 'Debt Destroyer | Step 02 | Build a Safety Net' video from the USAA informational website. [/INST] https://usaaef.org/tools/video/debt-destroyer-step-02-build-a-safety-net </s>\"\u001b[39m,\n",
      "  \u001b[32m'<s>[INST] Extract the main content description from the provided URL. [/INST] Debt Destroyer | Step 02 | Build a Safety Net ↵All Videos↵Included On:↵Step 2: Build a Safety Net </s>'\u001b[39m,\n",
      "  \u001b[32m\"<s>[INST] Retrieve the URL and content for the USAA informational week 5 newsletter. [/INST] URL: https://usaaef.org/news-insights/week-5-protect-your-life-loved-ones-and-possessions↵Content: ['by Steve Georgoulakis, CFP® on Monday January 29, 2024Posted in Category: Wallet Workouts\\\\nFight money mayhem with confidence!↵Insurance is excellent financial defense.↵This week&#8217;s workout:↵Protect Your Life, Loved Ones, and Possessions↵Financial empowerment is about more than going on the offensive and building a big bank account or diversified investment portfolio.↵You also need a good defense to protect what&#8217;s important: your life, loved ones, and your possessions. Insurance helps with that.↵Move 1↵Cover the financial needs of those depending on you with a strong life insurance plan. Determine the right amount of coverage using our LIFE calculator.↵Move 2↵Guard your gear from theft or damage with a Homeowners or Renters (Barracks) policy.↵Move 3↵Defend your finances from an expensive fender bender with auto insurance. Policies can help cover liability, collision and other costly situations (and can keep you compliant with the law).↵Move 4↵Protect your personal information from scammers using this helpful Military Consumer Protection guide.↵&nbsp;↵Join us for 7 Wallet Workouts↵ACHIEVE FINANCIAL FITNESS LIKE NEVER BEFORE!↵Jan. 3 Have a Financial Game Plan↵Jan. 10 Spend Less than You Earn↵Jan. 17 Save for Emergencies↵Jan. 24 Use Debt Responsibly↵Jan. 31 Protect Your Life, Loved Ones &amp; Possessions↵Feb. 7 Save and Invest for Your Future↵Feb. 14 Rest &amp; Recovery↵Feb. 21 Prepare Your Legal Documents↵Download PDF↵&nbsp;↵The USAA Educational Foundation is a nonprofit, tax-exempt IRS 501(c)(3) and cannot endorse or promote any commercial supplier, product, or service. The content of this blog is intended for information purposes only and does not constitute legal, tax, or financial advice. </s>\"\u001b[39m,\n",
      "  \u001b[32m'<s>[INST] Retrieve the URL for the USAA informational website section on paying for college. [/INST] https://usaaef.org/invest-for-the-future/college/paying-for-college </s>'\u001b[39m,\n",
      "  \u001b[32m'<s>[INST] List the main topics covered in the USAA informational website section on paying for college. [/INST] In This Guide: A college degree can open many doors.,Benefits of Higher Education: Educational Article,The Cost of College: Educational Article,How Do Families Pay For College?: Educational Article,How Much Do I Need To Save For College?: Calculator,Saving & Investing for College: Educational Article,Education Benefits of Serving: Video,Understanding Finan0cial Aid & Student Loans: Educational Article,Top Tips for Student Loans: Educational Article,Benefits of Higher Education: Part 1 of 9 in the Paying for College Guide </s>'\u001b[39m,\n",
      "  \u001b[32m\"<s>[INST] Retrieve the URL for the 'Saving for Emergencies' video content from the USAA informational website. [/INST] https://usaaef.org/tools/video/saving-for-emergencies </s>\"\u001b[39m,\n",
      "  \u001b[32m\"<s>[INST] Extract the main topic and included information from the 'Saving for Emergencies' content. [/INST] The main topic is 'Saving for Emergencies', and the included information is about 'All Videos', 'Included On', 'Emergency Funds: What They Are and Why They Matter'. </s>\"\u001b[39m,\n",
      "  \u001b[32m\"<s>[INST] Retrieve the URL for a video titled 'Car Buying Basics | Let Me Talk to My Sales Manager' from the USAA informational website. [/INST] https://usaaef.org/tools/video/car-buying-basics-let-me-talk-to-my-sales-manager </s>\"\u001b[39m,\n",
      "  \u001b[32m'<s>[INST] Identify the section of the USAA website where the video is listed, based on the provided content. [/INST] All Videos↵Included On:↵Negotiating The Deal </s>'\u001b[39m,\n",
      "  \u001b[32m\"<s>[INST] Retrieve the URL for the 'Financial Tips for Newlyweds' video from the USAA informational website. [/INST] https://usaaef.org/tools/video/financial-tips-for-newlyweds </s>\"\u001b[39m,\n",
      "  \u001b[32m\"<s>[INST] Identify the section of the USAA website where the 'Financial Tips for Newlyweds' video is listed. [/INST] Financial Tips for Newlyweds ↵All Videos↵Included On:↵Just Married </s>\"\u001b[39m,\n",
      "  \u001b[32m'<s>[INST] Retrieve the URL of the USAA Future Value Calculator. [/INST] https://usaaef.org/tools/calculator/future-value-calculator </s>'\u001b[39m,\n",
      "  \u001b[32m\"<s>[INST] Extract the content description from the USAA Future Value Calculator page. [/INST] Future Value Calculator ↵if (document.readyState === 'loading') {↵document.addEventListener('DOMContentLoaded', function() {↵iFrameResize({ log: true }, '#fin-embed-3121');↵});↵} else {↵iFrameResize({ log:false}, '#fin0-embed-3121');↵All Calculators↵Included On:↵Savings vs. Investing &#8211; What&#8217;s The Difference? </s>\"\u001b[39m,\n",
      "  \u001b[32m'<s>[INST] Retrieve the URL for the USAA budget baseline calculator. [/INST] undefined </s>'\u001b[39m,\n",
      "  \u001b[32m'<s>[INST] Retrieve the URL for the USAA budget baseline calculator. [/INST] https://usaaef.org/budget-savings/budget/build-a </s>'\u001b[39m,\n",
      "  \u001b[32m'<s>[INST] Extract the content description for the USAA budget baseline calculator. [/INST] https://usaaef.org/budget-savings/budget/build-a </s>'\u001b[39m,\n",
      "  \u001b[32m'<s>[INST] Extract the content description for the USAA budget baseline calculator. [/INST] If you like to crunch numbers on a calculator, use this for a self-check on your spending and cash flow. If you prefer pencil and paper, we have a worksheet for you in our next section.↵Getting your spending under control and in-line with your income is an essential element to building a healthy financial future. Use this calculator to analyze your spending (including what you pay on a credit card each month) to make sure you are not spending more than you bring in.↵In This Guide↵Build a Budget↵Why Do I Need a Budget?↵Educational Article↵How Do I Create a Budget?↵Video↵Check Your Budget Baseline↵Calculator↵Build Your Budget↵Worksheet↵Budgeting is a Team Sport↵Worksheet↵Take Command of Your Budget↵Educational Article↵Up Next↵Build Your Budget↵Part 4 of 6 in the ↵Build a Budget Guide </s>'\u001b[39m,\n",
      "  \u001b[32m'<s>[INST] Retrieve the URL of the Debt-To-Income Ratio Calculator from the USAA informational website. [/INST] https://usaaef.org/tools/calculator/debt-to-income-ratio-calculator </s>'\u001b[39m,\n",
      "  \u001b[32m\"<s>[INST] Extract and format the content description and the included information from the USAA informational website. [/INST] ['Debt-To-Income Ratio Calculator', 'All Calculators', 'Included On: Debt-to-Income Calculator'] </s>\"\u001b[39m,\n",
      "  \u001b[32m\"<s>[INST] Retrieve the URL for the 'Debt Destroyer | Step 05 | Adjust Your Cash Flow' video from the USAA informational website. [/INST] https://usaaef.org/tools/video/debt-destroyer-step-05-adjust-your-cash-flow </s>\"\u001b[39m,\n",
      "  \u001b[32m\"<s>[INST] Extract the title and included information from the content related to the 'Debt Destroyer | Step 05 | Adjust Your Cash Flow' video. [/INST] Debt Destroyer | Step 05 | Adjust Your Cash Flow ↵All Videos↵Included On:↵Step 5: Adjust Your Cash Flow </s>\"\u001b[39m,\n",
      "  \u001b[32m\"<s>[INST] Retrieve the URL for USAA's savings publications. [/INST] https://usaaef.org/product-category/savings-publications </s>\"\u001b[39m,\n",
      "  \u001b[32m'<s>[INST] List the options available for sorting the results on the USAA savings publications page. [/INST] Default sorting,Sort by popularity,Sort by latest,Sort by price: low to high,Sort by price: high to low </s>'\u001b[39m,\n",
      "  \u001b[32m'<s>[INST] Identify the type of content available under the USAA savings publications. [/INST] Savings,Building Your Savings,Free Publication </s>'\u001b[39m,\n",
      "  \u001b[32m'<s>[INST] Retrieve the URL of the USAA Mortgage Payment Calculator. [/INST] https://usaaef.org/tools/calculator/mortgage-payment-calculator </s>'\u001b[39m,\n",
      "  \u001b[32m\"<s>[INST] Extract the content description from the USAA Mortgage Payment Calculator page. [/INST] Mortgage Payment Calculator ↵if (document.readyState === 'loading') {↵document.addEventListener('DOMContentLoaded', function() {↵iFrameResize({ log: true }, '#fin-embed-3113');↵});↵} else {↵iFrameResize({ log:false}, '#fin0-embed-3113');↵}↵All Calculators↵Included On:↵Calculate Your Mortgage Payment </s>\"\u001b[39m,\n",
      "  \u001b[32m'<s>[INST] Retrieve the URL for a video on car buying basics, trade-ins, and negative equity from the USAA informational website. [/INST] https://usaaef.org/tools/video/car-buying-basics-trade-ins-and-negative-equity </s>'\u001b[39m,\n",
      "  \u001b[32m'<s>[INST] Identify the main topics covered in the video content provided. [/INST] Car Buying Basics, Trade-Ins, Negative Equity </s>'\u001b[39m,\n",
      "  \u001b[32m'<s>[INST] List the included content related to the video. [/INST] All Videos, Included On: How to Handle Negative Equity </s>'\u001b[39m,\n",
      "  \u001b[32m'<s>[INST] Retrieve the URL for the USAA informational website section on major purchases. [/INST] https://usaaef.org/major-purchases </s>'\u001b[39m,\n",
      "  \u001b[32m'<s>[INST] List the topics covered under the major purchases section on the USAA website. [/INST] Major Purchases,Home Ownership,Purchasing a Vehicle,Recommended Tools & Resources,How Much Car Can I Afford?,Home Sale Proceeds Calculator,Negotiating The Deal,5 Steps to Vehicle Financing,News & Insights,View All,March 1, 2024,Are You Ready for Tax Bracket Madness?,February 27, 2024,4 Military Money Moves for a Government Shutdown </s>'\u001b[39m,\n",
      "  \u001b[32m'<s>[INST] Retrieve the URL for the 401(k) Calculator from the USAA informational website. [/INST] undefined </s>'\u001b[39m,\n",
      "  \u001b[32m'<s>[INST] Retrieve the URL for the 401(k) Calculator from the USAA informational website. [/INST] https://usaaef.org/tools/calculator/401k-calculator </s>'\u001b[39m,\n",
      "  \u001b[32m'<s>[INST] Extract and format the content related to the 401(k) Calculator from the raw data. [/INST] https://usaaef.org/tools/calculator/401k-calculator </s>'\u001b[39m,\n",
      "  \u001b[32m`<s>[INST] Extract and format the content related to the 401(k) Calculator from the raw data. [/INST] \"401(k) Calculator \\\\nif (document.readyState === 'loading') \\\\ndocument.addEventListener('DOMContentLoaded', function() \\\\niFrameResize( log: true , '#fin-embed-3126');\\\\n);\\\\n else \\\\niFrameResize( log:false, '#fin-embed-3126');\\\\n\\\\nAll Calculators\\\\n </s>`\u001b[39m,\n",
      "  \u001b[32m\"<s>[INST] Retrieve the URL for the USAA informational website's calculator tool. [/INST] https://usaaef.org/tools/calculator </s>\"\u001b[39m,\n",
      "  \u001b[32m'<s>[INST] List the types of calculators available on the USAA informational website. [/INST] Calculators ↵401(k) Calculator↵Additional Payment Calculator↵BRS Lump Sum Calculator↵College Savings Calculator↵Compare a Bi-Weekly Mortgage to a Monthly Mortgage Calculator↵Compare Monthly Payment by Term Calculator↵Compare Two Vehicle Loans Calculator↵Debt-To-Income Ratio Calculator↵Emergency Fund Calculator↵Estimate Social Security Benefits Calculator↵Future Value Calculator↵Home Sale Proceeds Calculator </s>'\u001b[39m,\n",
      "  \u001b[32m\"<s>[INST] Describe the navigation options provided on the USAA informational website's calculator page. [/INST] Calculators navigation↵1↵2↵3↵Showing 1 - 12 of 28 </s>\"\u001b[39m,\n",
      "  \u001b[32m'<s>[INST] Explain the difference between saving and investing. [/INST] The difference between saving and investing comes down to risk and potential reward. Saving is a low-risk way to preserve money for short-term goals, often involving depositing funds into a bank account, certificate of deposit (CD), or money market deposit account. Investing requires taking calculated risks with your money by buying securities, such as stocks, bonds, or mutual funds, with the hope of earning higher, long-term returns. </s>'\u001b[39m,\n",
      "  \u001b[32m'<s>[INST] How much can my money grow by investing? [/INST] Investing a little money now can go a long way in the future! Use this calculator to find out how much your money can grow. </s>'\u001b[39m,\n",
      "  \u001b[32m'<s>[INST] What are the four main asset classes? [/INST] Understanding Investment Funds </s>'\u001b[39m,\n",
      "  \u001b[32m\"<s>[INST] What should I do before I invest? [/INST] Things to Do Before You Invest - Part 3 of 9 in the 'Investing for Growth Guide' </s>\"\u001b[39m,\n",
      "  \u001b[32m\"<s>[INST] Provide a URL to the USAA informational website's tools section. [/INST] https://usaaef.org/tools </s>\"\u001b[39m,\n",
      "  \u001b[32m\"<s>[INST] List the types of resources available on the USAA informational website's tools section. [/INST] Tools &#038; Resources ↵Calculators↵Videos↵Worksheets↵Military Support Resources↵View Resources↵News & Insights↵View All </s>\"\u001b[39m,\n",
      "  \u001b[32m\"<s>[INST] What date was the article 'Are You Ready for Tax Bracket Madness?' published on the USAA informational website? [/INST] March 1, 2024 </s>\"\u001b[39m,\n",
      "  ... 287 more items\n",
      "]\n"
     ]
    }
   ],
   "source": [
    "!node formatfix.mjs"
   ]
  },
  {
   "cell_type": "code",
   "execution_count": 19,
   "id": "1a6ac091-3275-4ec9-835b-0f6b7a551167",
   "metadata": {
    "execution": {
     "iopub.execute_input": "2024-06-26T20:49:05.602949Z",
     "iopub.status.busy": "2024-06-26T20:49:05.602593Z",
     "iopub.status.idle": "2024-06-26T20:49:05.944081Z",
     "shell.execute_reply": "2024-06-26T20:49:05.943444Z",
     "shell.execute_reply.started": "2024-06-26T20:49:05.602929Z"
    },
    "tags": []
   },
   "outputs": [],
   "source": [
    "!node removeCodeFromData.mjs"
   ]
  },
  {
   "cell_type": "code",
   "execution_count": null,
   "id": "3456dd87-9562-4bee-b9f0-9033d8396f34",
   "metadata": {},
   "outputs": [],
   "source": []
  },
  {
   "cell_type": "code",
   "execution_count": null,
   "id": "3c326f2b-2028-4ead-acea-cc8ee2dce8cf",
   "metadata": {},
   "outputs": [],
   "source": []
  }
 ],
 "metadata": {
  "kernelspec": {
   "display_name": "Python [conda env:pytorch]",
   "language": "python",
   "name": "conda-env-pytorch-py"
  },
  "language_info": {
   "codemirror_mode": {
    "name": "ipython",
    "version": 3
   },
   "file_extension": ".py",
   "mimetype": "text/x-python",
   "name": "python",
   "nbconvert_exporter": "python",
   "pygments_lexer": "ipython3",
   "version": "3.11.5"
  }
 },
 "nbformat": 4,
 "nbformat_minor": 5
}
